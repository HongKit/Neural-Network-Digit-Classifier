{
 "cells": [
  {
   "cell_type": "code",
   "execution_count": 59,
   "metadata": {
    "collapsed": false
   },
   "outputs": [
    {
     "name": "stdout",
     "output_type": "stream",
     "text": [
      "starting DFS for training data!\n",
      "dfs at step 0\n",
      "dfs at step 5000\n",
      "dfs at step 10000\n",
      "dfs at step 15000\n",
      "dfs at step 20000\n",
      "dfs at step 25000\n",
      "dfs at step 30000\n",
      "dfs at step 35000\n",
      "dfs at step 40000\n",
      "dfs at step 45000\n",
      "dfs at step 50000\n",
      "dfs at step 55000\n",
      "DFS done for training data!\n",
      "\n",
      "starting DFS for testing data!\n",
      "DFS done for testing data!\n",
      "\n"
     ]
    }
   ],
   "source": [
    "import pickle\n",
    "import numpy as np\n",
    "from scipy.io import loadmat\n",
    "from sklearn.preprocessing import normalize\n",
    "\n",
    "#To find the number of SCC in a picture. Refactored from my own CS188 code\n",
    "def dfs(graph, start, visited=None):\n",
    "        if visited is None:\n",
    "            visited = set()\n",
    "        visited.add(start)\n",
    "        for next in graph[start] - visited:\n",
    "            dfs(graph, next, visited)\n",
    "        return visited\n",
    "        \n",
    "def run_dfs(test_img_raw, num_samples, threshold = 127, x_max = 28, y_max = 28):\n",
    "    dfs_feature = []\n",
    "    test_img_zero_one = 1*(test_img_raw>threshold)\n",
    "    for i in range(num_samples):\n",
    "        if num_samples > 50000 and i % 5000 == 0: \n",
    "            print(\"dfs at step {0}\".format(i))\n",
    "        graph = {}\n",
    "        for x in range(x_max):\n",
    "            for y in range(y_max):\n",
    "                graph[(x,y)] = set()\n",
    "                if test_img_zero_one[i][x][y] == 1: continue\n",
    "                if x+1 < x_max and test_img_zero_one[i, x+1, y] == 0:\n",
    "                    graph[(x,y)].add((x+1, y))\n",
    "                if x-1 >= 0 and test_img_zero_one[i, x-1, y] == 0:\n",
    "                    graph[(x,y)].add((x-1, y))\n",
    "                if y+1 < y_max and test_img_zero_one[i, x, y+1] == 0:\n",
    "                    graph[(x,y)].add((x, y+1))\n",
    "                if y-1 >= 0 and test_img_zero_one[i, x, y-1] == 0:\n",
    "                    graph[(x,y)].add((x, y-1))\n",
    "        DFS_visited = set()\n",
    "        SCCs = set()\n",
    "        \n",
    "        for x in range(x_max):\n",
    "            for y in range(y_max):\n",
    "                if (x,y) in DFS_visited: continue\n",
    "                if test_img_zero_one[i][x][y] == 1: continue\n",
    "                SSC_i = dfs(graph, (x,y))\n",
    "                SCCs.add(frozenset(SSC_i))\n",
    "                DFS_visited = DFS_visited.union(SSC_i)\n",
    "\n",
    "        num_of_SCCs = len(SCCs)\n",
    "        dfs_feature.append(num_of_SCCs)\n",
    "    return dfs_feature\n",
    "\n",
    "train_mat = loadmat(\"dataset/train.mat\")\n",
    "train_img_raw = train_mat[\"train_images\"].T\n",
    "train_lab = train_mat[\"train_labels\"].ravel()\n",
    "train_img = np.array([train_img_raw[i].T.flatten() for i in range(60000)])\n",
    "\n",
    "test_mat = loadmat(\"dataset/test.mat\")\n",
    "test_img_raw = test_mat[\"test_images\"]\n",
    "test_img = np.array([test_img_raw[i].reshape(28,28).flatten() for i in range(10000)])\n",
    "\n",
    "# Run DFS\n",
    "print(\"starting DFS for training data!\")\n",
    "dfs_feature = run_dfs(train_img_raw, 60000, 130)\n",
    "dfs_features = np.zeros((60000, 4))\n",
    "for i in range(60000):\n",
    "    if dfs_feature[i] > 3:\n",
    "        dfs_features[i][3] = 255\n",
    "    else:\n",
    "        dfs_features[i][dfs_feature[i]] = 255\n",
    "train_img = np.array([np.concatenate([train_img[i], dfs_features[i]]) for i in range(60000)])\n",
    "print(\"DFS done for training data!\\n\")\n",
    "\n",
    "print(\"starting DFS for testing data!\")\n",
    "dfs_feature1 = run_dfs(test_img_raw.reshape(10000, 28, 28), 10000, 130)\n",
    "dfs_features1 = np.zeros((10000, 4))\n",
    "for i in range(10000):\n",
    "    if dfs_feature1[i] > 3:\n",
    "        dfs_features1[i][3] = 255\n",
    "    else:\n",
    "        dfs_features1[i][dfs_feature1[i]] = 255\n",
    "test_img = np.array([np.concatenate([test_img[i], dfs_features1[i]]) for i in range(10000)])\n",
    "print(\"DFS done for testing data!\\n\")\n",
    "\n",
    "# standardize\n",
    "train_img = normalize(train_img.astype(np.float64))\n",
    "test_img = normalize(test_img.astype(np.float64))\n",
    "train_mean, train_std = train_img.mean(), train_img.std()\n",
    "train_img = (train_img - train_mean) / train_std\n",
    "test_img = (test_img - train_mean) / train_std\n",
    "\n",
    "# save standardized data and labels to disk\n",
    "train_img.dump('train_img.np')\n",
    "test_img.dump('test_img.np')\n",
    "train_lab.dump('train_lab.pkl')"
   ]
  },
  {
   "cell_type": "code",
   "execution_count": 67,
   "metadata": {
    "collapsed": false
   },
   "outputs": [],
   "source": [
    "get_ipython().magic(u'matplotlib inline')\n",
    "import matplotlib.pyplot as plt\n",
    "import numpy as np\n",
    "\n",
    "def print_img(H):\n",
    "    fig = plt.figure(figsize=(6, 3.2))\n",
    "\n",
    "    ax = fig.add_subplot(111)\n",
    "    ax.set_title('colorMap')\n",
    "    plt.imshow(H)\n",
    "    ax.set_aspect('equal')\n",
    "\n",
    "    cax = fig.add_axes([0.12, 0.1, 0.78, 0.8])\n",
    "    cax.get_xaxis().set_visible(False)\n",
    "    cax.get_yaxis().set_visible(False)\n",
    "    cax.patch.set_alpha(0)\n",
    "    cax.set_frame_on(False)\n",
    "    plt.colorbar(orientation='vertical')\n",
    "    plt.show()"
   ]
  },
  {
   "cell_type": "code",
   "execution_count": 96,
   "metadata": {
    "collapsed": false
   },
   "outputs": [],
   "source": [
    "import numpy as np\n",
    "from scipy.special import expit\n",
    "from random import randint\n",
    "    \n",
    "#benchmark.m, converted\n",
    "def benchmark(pred_labels, true_labels):\n",
    "    errors = pred_labels != true_labels\n",
    "    err_rate = sum(errors) / float(len(true_labels))\n",
    "    return err_rate\n",
    "\n",
    "# Activation Functions\n",
    "def sigmoid_function(signal, derivative=False):\n",
    "    signal = np.clip(signal, -500, 500)\n",
    "    signal = expit(signal)\n",
    "    if derivative:\n",
    "        return np.multiply(signal, 1 - signal)\n",
    "    else:\n",
    "        return signal\n",
    "\n",
    "def tanh_function(signal, derivative=False):\n",
    "    signal = np.tanh( signal )\n",
    "    if derivative:\n",
    "        return 1-np.power(signal,2)\n",
    "    else:\n",
    "        return signal\n",
    "\n",
    "# Cost Functions\n",
    "def sum_squared_error(outputs, targets, derivative=False):\n",
    "    if derivative:\n",
    "        return -(outputs - targets)\n",
    "    else:\n",
    "        return 0.5 * np.sum(np.power(outputs - targets,2))\n",
    "    \n",
    "def cross_entropy_cost(outputs, targets, derivative=False, epsilon=1e-11):\n",
    "    outputs = np.clip(outputs, epsilon, 1 - epsilon)\n",
    "    divisor = np.maximum(outputs * (1 - outputs), epsilon)\n",
    "    if derivative:\n",
    "        return -(outputs - targets) / divisor / 10**10\n",
    "    else:\n",
    "        return -np.sum(targets * np.log( outputs ) + (1 - targets) * np.log(1 - outputs))\n",
    "    \n",
    "class NeuralNet(object):\n",
    "    def __init__(self, X, y, costFN = sum_squared_error, outputLayerSize = 10, \\\n",
    "                 hiddenLayerSize = 200, learning_rate = 1, lamb = 0.0001):\n",
    "        numberOfSamples = len(y)\n",
    "        self.X = X[numberOfSamples//6:]\n",
    "        self.y = y[numberOfSamples//6:]\n",
    "        self.X_valid = X[:numberOfSamples//6]\n",
    "        self.y_valid = y[:numberOfSamples//6]\n",
    "        \n",
    "        self.costFN = costFN\n",
    "        self.inputLayerSize = len(X[0])\n",
    "        self.outputLayerSize = outputLayerSize\n",
    "        self.hiddenLayerSize = hiddenLayerSize\n",
    "        self.learning_rate = learning_rate\n",
    "        self.lamb = lamb\n",
    "        \n",
    "        self.V = np.random.randn(self.inputLayerSize, self.hiddenLayerSize)\n",
    "        self.W = np.random.randn(self.hiddenLayerSize, self.outputLayerSize)\n",
    "    \n",
    "    def forward(self, X):\n",
    "        self.z2 = np.dot(X, self.V)\n",
    "        self.a2 = tanh_function(self.z2)\n",
    "        self.z3 = np.dot(self.a2, self.W)\n",
    "        yHat = sigmoid_function(self.z3)\n",
    "        return yHat\n",
    "    \n",
    "    def costFunction(self):\n",
    "        yHat = self.forward(self.X)\n",
    "        return self.costFN(yHat, self.y, False)\n",
    "    \n",
    "    def costFunctionPrime(self, Xi, yi):\n",
    "        yHati = self.forward(Xi)\n",
    "        \n",
    "        delta3 = np.multiply(-self.costFN(yHati, yi, True), sigmoid_function(yHati, True))\n",
    "        dJdW = np.dot(self.a2.T, delta3) / Xi.shape[0] + self.lamb * self.W\n",
    "        \n",
    "        delta2 = np.dot(delta3, self.W.T) * tanh_function(self.z2, True)\n",
    "        dJdV = np.dot(Xi.T, delta2) / Xi.shape[0] + self.lamb * self.V\n",
    "        \n",
    "        return dJdV, dJdW\n",
    "    \n",
    "    def validation_error(self):\n",
    "        yHat = self.forward(self.X_valid)\n",
    "        yPredi = np.argmax(yHat, axis = 1)\n",
    "        yGiven = np.argmax(self.y_valid, axis = 1)\n",
    "        return benchmark(yPredi, yGiven)\n",
    "    \n",
    "    def training_error(self):\n",
    "        yHat = self.forward(self.X)\n",
    "        yPredi = np.argmax(yHat, axis = 1)\n",
    "        yGiven = np.argmax(self.y, axis = 1)\n",
    "        return benchmark(yPredi, yGiven)\n",
    "    \n",
    "    def stochastic_GD(self, Xi, yi, current_learning_rate):\n",
    "        dJdV, dJdW = self.costFunctionPrime(Xi, yi)\n",
    "        self.V = self.V - current_learning_rate*dJdV\n",
    "        self.W = self.W - current_learning_rate*dJdW\n",
    "        \n",
    "    def train(self):\n",
    "        self.valid_err = []\n",
    "        self.J = []\n",
    "        for i in range(1,50000):\n",
    "            if i % 1000 == 0:\n",
    "                self.valid_err.append(self.validation_error())\n",
    "                self.J.append(self.costFunction())\n",
    "            index = randint(0, len(self.y)-1)\n",
    "            self.stochastic_GD(np.array([self.X[index]]),\\\n",
    "                               np.array([self.y[index]]), 10000*self.learning_rate/(i+50000))\n",
    "        self.yHat = self.forward(self.X)\n",
    "        return np.argmax(self.yHat, axis = 1)\n",
    "    \n",
    "    def predict(self, X):\n",
    "        return np.argmax(self.forward(X), axis = 1)"
   ]
  },
  {
   "cell_type": "code",
   "execution_count": 3,
   "metadata": {
    "collapsed": false
   },
   "outputs": [],
   "source": [
    "import pickle\n",
    "import numpy as np\n",
    "from scipy.sparse import coo_matrix\n",
    "from sklearn.utils import shuffle\n",
    "import time\n",
    "\n",
    "with open('test_img.np', 'rb') as f:\n",
    "    test_img = pickle.load(f)\n",
    "with open('train_img.np', 'rb') as f:\n",
    "    train_img = pickle.load(f)\n",
    "with open('train_lab.pkl', 'rb') as f:\n",
    "    train_lab = pickle.load(f)\n",
    "    \n",
    "X_sparse = coo_matrix(train_img)\n",
    "train_img, X_sparse, train_lab = shuffle(train_img, X_sparse, train_lab, random_state=0)\n",
    "\n",
    "y = np.zeros((len(train_lab), 10))\n",
    "for i in range(len(train_lab)):\n",
    "    y[i][train_lab[i]] = 1\n",
    "X = train_img"
   ]
  },
  {
   "cell_type": "code",
   "execution_count": 97,
   "metadata": {
    "collapsed": false
   },
   "outputs": [
    {
     "name": "stdout",
     "output_type": "stream",
     "text": [
      "110690.937455\n",
      "4397.09872838\n"
     ]
    },
    {
     "data": {
      "image/png": "[encoded data removed]",
      "text/plain": [
       "<matplotlib.figure.Figure at 0x1f480e72278>"
      ]
     },
     "metadata": {},
     "output_type": "display_data"
    },
    {
     "data": {
      "image/png": "[encoded data removed]",
      "text/plain": [
       "<matplotlib.figure.Figure at 0x1f480ea2e48>"
      ]
     },
     "metadata": {},
     "output_type": "display_data"
    },
    {
     "name": "stdout",
     "output_type": "stream",
     "text": [
      "Training finished in 545.6282796110754 seconds\n",
      "Training accuracy: <bound method NeuralNet.training_error of <__main__.NeuralNet object at 0x000001F480F63860>>\n",
      "Validation accuracy: <bound method NeuralNet.validation_error of <__main__.NeuralNet object at 0x000001F480F63860>>\n",
      "3061052.29908\n",
      "424465.520162\n"
     ]
    },
    {
     "data": {
      "image/png": "[encoded data removed]",
      "text/plain": [
       "<matplotlib.figure.Figure at 0x1f480eb5eb8>"
      ]
     },
     "metadata": {},
     "output_type": "display_data"
    },
    {
     "data": {
      "image/png": "[encoded data removed]",
      "text/plain": [
       "<matplotlib.figure.Figure at 0x1f480f40710>"
      ]
     },
     "metadata": {},
     "output_type": "display_data"
    },
    {
     "name": "stdout",
     "output_type": "stream",
     "text": [
      "Training finished in 436.79830476535426 seconds\n",
      "Training accuracy: <bound method NeuralNet.training_error of <__main__.NeuralNet object at 0x000001F480E56B00>>\n",
      "Validation accuracy: <bound method NeuralNet.validation_error of <__main__.NeuralNet object at 0x000001F480E56B00>>\n"
     ]
    },
    {
     "data": {
      "text/plain": [
       "<matplotlib.figure.Figure at 0x1f481251a20>"
      ]
     },
     "metadata": {},
     "output_type": "display_data"
    }
   ],
   "source": [
    "get_ipython().magic(u'matplotlib inline')\n",
    "import matplotlib.pyplot as plt\n",
    "\n",
    "startTime = time.clock()\n",
    "NN = NeuralNet(X, y)\n",
    "print(NN.costFunction())\n",
    "NN.train()\n",
    "print(NN.costFunction())\n",
    "plt.plot(NN.valid_err)\n",
    "plt.show()\n",
    "plt.clf()\n",
    "plt.plot(NN.J)\n",
    "plt.show()\n",
    "plt.clf()\n",
    "endTime = time.clock()\n",
    "print(\"Training finished in {} seconds\".format(endTime-startTime))\n",
    "\n",
    "startTime = time.clock()\n",
    "NN2 = NeuralNet(X, y, cross_entropy_cost)\n",
    "print(NN2.costFunction())\n",
    "NN2.train()\n",
    "print(NN2.costFunction())\n",
    "plt.plot(NN2.valid_err)\n",
    "plt.show()\n",
    "plt.clf()\n",
    "plt.plot(NN2.J)\n",
    "plt.show()\n",
    "plt.clf()\n",
    "endTime = time.clock()\n",
    "print(\"Training finished in {} seconds\".format(endTime-startTime))"
   ]
  },
  {
   "cell_type": "code",
   "execution_count": 99,
   "metadata": {
    "collapsed": false
   },
   "outputs": [
    {
     "name": "stdout",
     "output_type": "stream",
     "text": [
      "Training accuracy: 0.90622\n",
      "Validation accuracy: 0.8946000000000001\n",
      "Training accuracy: 0.26376\n",
      "Validation accuracy: 0.273\n"
     ]
    }
   ],
   "source": [
    "print(\"Training accuracy: {}\". format(1-NN.training_error()))\n",
    "print(\"Validation accuracy: {}\". format(1-NN.validation_error()))\n",
    "print(\"Training accuracy: {}\". format(1-NN2.training_error()))\n",
    "print(\"Validation accuracy: {}\". format(1-NN2.validation_error()))"
   ]
  },
  {
   "cell_type": "code",
   "execution_count": 89,
   "metadata": {
    "collapsed": false
   },
   "outputs": [
    {
     "name": "stdout",
     "output_type": "stream",
     "text": [
      "Counter({3: 1173, 1: 1169, 7: 1044, 0: 1019, 9: 1010, 6: 1001, 2: 994, 4: 958, 8: 896, 5: 736})\n"
     ]
    }
   ],
   "source": [
    "import csv\n",
    "from collections import Counter\n",
    "predictions = NN.predict(test_img)\n",
    "print(Counter(predictions))\n",
    "with open('digit-results-MSE.csv', 'w', newline='') as csvfile:\n",
    "    spamwriter = csv.writer(csvfile, delimiter=',')\n",
    "    spamwriter.writerow(['Id'] + ['Category'])\n",
    "    for i in range(len(predictions)):\n",
    "        spamwriter.writerow([i+1, predictions[i]])"
   ]
  },
  {
   "cell_type": "code",
   "execution_count": 85,
   "metadata": {
    "collapsed": false
   },
   "outputs": [
    {
     "name": "stdout",
     "output_type": "stream",
     "text": [
      "Counter({5: 1510, 2: 1460, 9: 1278, 8: 1227, 6: 999, 1: 898, 4: 724, 3: 687, 7: 647, 0: 570})\n"
     ]
    }
   ],
   "source": [
    "import csv\n",
    "from collections import Counter\n",
    "predictions = NN2.predict(test_img)\n",
    "print(Counter(predictions))\n",
    "with open('digit-results-CEC.csv', 'w', newline='') as csvfile:\n",
    "    spamwriter = csv.writer(csvfile, delimiter=',')\n",
    "    spamwriter.writerow(['Id'] + ['Category'])\n",
    "    for i in range(len(predictions)):\n",
    "        spamwriter.writerow([i+1, predictions[i]])"
   ]
  },
  {
   "cell_type": "code",
   "execution_count": 92,
   "metadata": {
    "collapsed": false
   },
   "outputs": [],
   "source": [
    "import numpy as np\n",
    "from scipy.special import expit\n",
    "from random import randint\n",
    "\n",
    "# Activation Functions\n",
    "def sigmoid_function(signal, derivative=False):\n",
    "    signal = np.clip(signal, -500, 500)\n",
    "    signal = expit(signal)\n",
    "    if derivative:\n",
    "        return np.multiply(signal, 1 - signal)\n",
    "    else:\n",
    "        return signal\n",
    "\n",
    "def tanh_function(signal, derivative=False):\n",
    "    signal = np.tanh( signal )\n",
    "    if derivative:\n",
    "        return 1-np.power(signal,2)\n",
    "    else:\n",
    "        return signal\n",
    "\n",
    "# Cost Functions\n",
    "def sum_squared_error(outputs, targets, derivative=False):\n",
    "    if derivative:\n",
    "        return -(outputs - targets)\n",
    "    else:\n",
    "        return 0.5 * np.sum(np.power(outputs - targets,2))\n",
    "\n",
    "class NeuralNetMax(object):\n",
    "    def __init__(self, X, y, costFN = sum_squared_error, outputLayerSize = 10, \\\n",
    "                 hiddenLayerSize = 200, learning_rate = 1, lamb = 0.0001):\n",
    "        self.X = X\n",
    "        self.y = y\n",
    "        \n",
    "        self.costFN = costFN\n",
    "        self.inputLayerSize = len(X[0])\n",
    "        self.outputLayerSize = outputLayerSize\n",
    "        self.hiddenLayerSize = hiddenLayerSize\n",
    "        self.learning_rate = learning_rate\n",
    "        self.lamb = lamb\n",
    "        \n",
    "        self.V = np.random.randn(self.inputLayerSize, self.hiddenLayerSize)\n",
    "        self.W = np.random.randn(self.hiddenLayerSize, self.outputLayerSize)\n",
    "    \n",
    "    def forward(self, X):\n",
    "        self.z2 = np.dot(X, self.V)\n",
    "        self.a2 = tanh_function(self.z2)\n",
    "        self.z3 = np.dot(self.a2, self.W)\n",
    "        yHat = sigmoid_function(self.z3)\n",
    "        return yHat\n",
    "    \n",
    "    def costFunction(self):\n",
    "        yHat = self.forward(self.X)\n",
    "        return self.costFN(yHat, self.y, False)\n",
    "    \n",
    "    def costFunctionPrime(self, Xi, yi):\n",
    "        yHati = self.forward(Xi)\n",
    "        \n",
    "        delta3 = np.multiply(-self.costFN(yHati, yi, True), sigmoid_function(yHati, True))\n",
    "        dJdW = np.dot(self.a2.T, delta3) / Xi.shape[0] + self.lamb * self.W\n",
    "        \n",
    "        delta2 = np.dot(delta3, self.W.T) * tanh_function(self.z2, True)\n",
    "        dJdV = np.dot(Xi.T, delta2) / Xi.shape[0] + self.lamb * self.V\n",
    "        \n",
    "        return dJdV, dJdW\n",
    "    \n",
    "    def stochastic_GD(self, Xi, yi, current_learning_rate):\n",
    "        dJdV, dJdW = self.costFunctionPrime(Xi, yi)\n",
    "        self.V = self.V - current_learning_rate*dJdV\n",
    "        self.W = self.W - current_learning_rate*dJdW\n",
    "        \n",
    "    def train(self):\n",
    "        self.J = []\n",
    "        for i in range(1,200000):\n",
    "            if i % 1000 == 0:\n",
    "                self.J.append(self.costFunction())\n",
    "            index = randint(0, len(self.y)-1)\n",
    "            self.stochastic_GD(np.array([self.X[index]]),\\\n",
    "                               np.array([self.y[index]]), 10000*self.learning_rate/(i+20000))\n",
    "        self.yHat = self.forward(self.X)\n",
    "        self.learning_rate = 10000*self.learning_rate/(200000+20000)\n",
    "        return np.argmax(self.yHat, axis = 1)\n",
    "    \n",
    "    def predict(self, X):\n",
    "        return np.argmax(self.forward(X), axis = 1)"
   ]
  },
  {
   "cell_type": "code",
   "execution_count": 94,
   "metadata": {
    "collapsed": false
   },
   "outputs": [
    {
     "name": "stdout",
     "output_type": "stream",
     "text": [
      "145885.048088\n"
     ]
    },
    {
     "ename": "KeyboardInterrupt",
     "evalue": "",
     "output_type": "error",
     "traceback": [
      "\u001b[1;31m---------------------------------------------------------------------------\u001b[0m",
      "\u001b[1;31mKeyboardInterrupt\u001b[0m                         Traceback (most recent call last)",
      "\u001b[1;32m<ipython-input-94-4476cf2a206c>\u001b[0m in \u001b[0;36m<module>\u001b[1;34m()\u001b[0m\n\u001b[0;32m      5\u001b[0m \u001b[0mNNM\u001b[0m \u001b[1;33m=\u001b[0m \u001b[0mNeuralNetMax\u001b[0m\u001b[1;33m(\u001b[0m\u001b[0mX\u001b[0m\u001b[1;33m,\u001b[0m \u001b[0my\u001b[0m\u001b[1;33m)\u001b[0m\u001b[1;33m\u001b[0m\u001b[0m\n\u001b[0;32m      6\u001b[0m \u001b[0mprint\u001b[0m\u001b[1;33m(\u001b[0m\u001b[0mNNM\u001b[0m\u001b[1;33m.\u001b[0m\u001b[0mcostFunction\u001b[0m\u001b[1;33m(\u001b[0m\u001b[1;33m)\u001b[0m\u001b[1;33m)\u001b[0m\u001b[1;33m\u001b[0m\u001b[0m\n\u001b[1;32m----> 7\u001b[1;33m \u001b[0mNNM\u001b[0m\u001b[1;33m.\u001b[0m\u001b[0mtrain\u001b[0m\u001b[1;33m(\u001b[0m\u001b[1;33m)\u001b[0m\u001b[1;33m\u001b[0m\u001b[0m\n\u001b[0m\u001b[0;32m      8\u001b[0m \u001b[0mprint\u001b[0m\u001b[1;33m(\u001b[0m\u001b[0mNNM\u001b[0m\u001b[1;33m.\u001b[0m\u001b[0mcostFunction\u001b[0m\u001b[1;33m(\u001b[0m\u001b[1;33m)\u001b[0m\u001b[1;33m)\u001b[0m\u001b[1;33m\u001b[0m\u001b[0m\n\u001b[0;32m      9\u001b[0m \u001b[0mendTime\u001b[0m \u001b[1;33m=\u001b[0m \u001b[0mtime\u001b[0m\u001b[1;33m.\u001b[0m\u001b[0mclock\u001b[0m\u001b[1;33m(\u001b[0m\u001b[1;33m)\u001b[0m\u001b[1;33m\u001b[0m\u001b[0m\n",
      "\u001b[1;32m<ipython-input-92-f4ffce6b7b5e>\u001b[0m in \u001b[0;36mtrain\u001b[1;34m(self)\u001b[0m\n\u001b[0;32m     82\u001b[0m                 \u001b[0mself\u001b[0m\u001b[1;33m.\u001b[0m\u001b[0mJ\u001b[0m\u001b[1;33m.\u001b[0m\u001b[0mappend\u001b[0m\u001b[1;33m(\u001b[0m\u001b[0mself\u001b[0m\u001b[1;33m.\u001b[0m\u001b[0mcostFunction\u001b[0m\u001b[1;33m(\u001b[0m\u001b[1;33m)\u001b[0m\u001b[1;33m)\u001b[0m\u001b[1;33m\u001b[0m\u001b[0m\n\u001b[0;32m     83\u001b[0m             \u001b[0mindex\u001b[0m \u001b[1;33m=\u001b[0m \u001b[0mrandint\u001b[0m\u001b[1;33m(\u001b[0m\u001b[1;36m0\u001b[0m\u001b[1;33m,\u001b[0m \u001b[0mlen\u001b[0m\u001b[1;33m(\u001b[0m\u001b[0mself\u001b[0m\u001b[1;33m.\u001b[0m\u001b[0my\u001b[0m\u001b[1;33m)\u001b[0m\u001b[1;33m-\u001b[0m\u001b[1;36m1\u001b[0m\u001b[1;33m)\u001b[0m\u001b[1;33m\u001b[0m\u001b[0m\n\u001b[1;32m---> 84\u001b[1;33m             \u001b[0mself\u001b[0m\u001b[1;33m.\u001b[0m\u001b[0mstochastic_GD\u001b[0m\u001b[1;33m(\u001b[0m\u001b[0mnp\u001b[0m\u001b[1;33m.\u001b[0m\u001b[0marray\u001b[0m\u001b[1;33m(\u001b[0m\u001b[1;33m[\u001b[0m\u001b[0mself\u001b[0m\u001b[1;33m.\u001b[0m\u001b[0mX\u001b[0m\u001b[1;33m[\u001b[0m\u001b[0mindex\u001b[0m\u001b[1;33m]\u001b[0m\u001b[1;33m]\u001b[0m\u001b[1;33m)\u001b[0m\u001b[1;33m,\u001b[0m                               \u001b[0mnp\u001b[0m\u001b[1;33m.\u001b[0m\u001b[0marray\u001b[0m\u001b[1;33m(\u001b[0m\u001b[1;33m[\u001b[0m\u001b[0mself\u001b[0m\u001b[1;33m.\u001b[0m\u001b[0my\u001b[0m\u001b[1;33m[\u001b[0m\u001b[0mindex\u001b[0m\u001b[1;33m]\u001b[0m\u001b[1;33m]\u001b[0m\u001b[1;33m)\u001b[0m\u001b[1;33m,\u001b[0m \u001b[1;36m100000\u001b[0m\u001b[1;33m*\u001b[0m\u001b[0mself\u001b[0m\u001b[1;33m.\u001b[0m\u001b[0mlearning_rate\u001b[0m\u001b[1;33m/\u001b[0m\u001b[1;33m(\u001b[0m\u001b[0mi\u001b[0m\u001b[1;33m+\u001b[0m\u001b[1;36m300000\u001b[0m\u001b[1;33m)\u001b[0m\u001b[1;33m)\u001b[0m\u001b[1;33m\u001b[0m\u001b[0m\n\u001b[0m\u001b[0;32m     85\u001b[0m         \u001b[0mself\u001b[0m\u001b[1;33m.\u001b[0m\u001b[0myHat\u001b[0m \u001b[1;33m=\u001b[0m \u001b[0mself\u001b[0m\u001b[1;33m.\u001b[0m\u001b[0mforward\u001b[0m\u001b[1;33m(\u001b[0m\u001b[0mself\u001b[0m\u001b[1;33m.\u001b[0m\u001b[0mX\u001b[0m\u001b[1;33m)\u001b[0m\u001b[1;33m\u001b[0m\u001b[0m\n\u001b[0;32m     86\u001b[0m         \u001b[1;32mreturn\u001b[0m \u001b[0mnp\u001b[0m\u001b[1;33m.\u001b[0m\u001b[0margmax\u001b[0m\u001b[1;33m(\u001b[0m\u001b[0mself\u001b[0m\u001b[1;33m.\u001b[0m\u001b[0myHat\u001b[0m\u001b[1;33m,\u001b[0m \u001b[0maxis\u001b[0m \u001b[1;33m=\u001b[0m \u001b[1;36m1\u001b[0m\u001b[1;33m)\u001b[0m\u001b[1;33m\u001b[0m\u001b[0m\n",
      "\u001b[1;32m<ipython-input-92-f4ffce6b7b5e>\u001b[0m in \u001b[0;36mstochastic_GD\u001b[1;34m(self, Xi, yi, current_learning_rate)\u001b[0m\n\u001b[0;32m     72\u001b[0m \u001b[1;33m\u001b[0m\u001b[0m\n\u001b[0;32m     73\u001b[0m     \u001b[1;32mdef\u001b[0m \u001b[0mstochastic_GD\u001b[0m\u001b[1;33m(\u001b[0m\u001b[0mself\u001b[0m\u001b[1;33m,\u001b[0m \u001b[0mXi\u001b[0m\u001b[1;33m,\u001b[0m \u001b[0myi\u001b[0m\u001b[1;33m,\u001b[0m \u001b[0mcurrent_learning_rate\u001b[0m\u001b[1;33m)\u001b[0m\u001b[1;33m:\u001b[0m\u001b[1;33m\u001b[0m\u001b[0m\n\u001b[1;32m---> 74\u001b[1;33m         \u001b[0mdJdV\u001b[0m\u001b[1;33m,\u001b[0m \u001b[0mdJdW\u001b[0m \u001b[1;33m=\u001b[0m \u001b[0mself\u001b[0m\u001b[1;33m.\u001b[0m\u001b[0mcostFunctionPrime\u001b[0m\u001b[1;33m(\u001b[0m\u001b[0mXi\u001b[0m\u001b[1;33m,\u001b[0m \u001b[0myi\u001b[0m\u001b[1;33m)\u001b[0m\u001b[1;33m\u001b[0m\u001b[0m\n\u001b[0m\u001b[0;32m     75\u001b[0m         \u001b[0mself\u001b[0m\u001b[1;33m.\u001b[0m\u001b[0mV\u001b[0m \u001b[1;33m=\u001b[0m \u001b[0mself\u001b[0m\u001b[1;33m.\u001b[0m\u001b[0mV\u001b[0m \u001b[1;33m-\u001b[0m \u001b[0mcurrent_learning_rate\u001b[0m\u001b[1;33m*\u001b[0m\u001b[0mdJdV\u001b[0m\u001b[1;33m\u001b[0m\u001b[0m\n\u001b[0;32m     76\u001b[0m         \u001b[0mself\u001b[0m\u001b[1;33m.\u001b[0m\u001b[0mW\u001b[0m \u001b[1;33m=\u001b[0m \u001b[0mself\u001b[0m\u001b[1;33m.\u001b[0m\u001b[0mW\u001b[0m \u001b[1;33m-\u001b[0m \u001b[0mcurrent_learning_rate\u001b[0m\u001b[1;33m*\u001b[0m\u001b[0mdJdW\u001b[0m\u001b[1;33m\u001b[0m\u001b[0m\n",
      "\u001b[1;32m<ipython-input-92-f4ffce6b7b5e>\u001b[0m in \u001b[0;36mcostFunctionPrime\u001b[1;34m(self, Xi, yi)\u001b[0m\n\u001b[0;32m     67\u001b[0m \u001b[1;33m\u001b[0m\u001b[0m\n\u001b[0;32m     68\u001b[0m         \u001b[0mdelta2\u001b[0m \u001b[1;33m=\u001b[0m \u001b[0mnp\u001b[0m\u001b[1;33m.\u001b[0m\u001b[0mdot\u001b[0m\u001b[1;33m(\u001b[0m\u001b[0mdelta3\u001b[0m\u001b[1;33m,\u001b[0m \u001b[0mself\u001b[0m\u001b[1;33m.\u001b[0m\u001b[0mW\u001b[0m\u001b[1;33m.\u001b[0m\u001b[0mT\u001b[0m\u001b[1;33m)\u001b[0m \u001b[1;33m*\u001b[0m \u001b[0mtanh_function\u001b[0m\u001b[1;33m(\u001b[0m\u001b[0mself\u001b[0m\u001b[1;33m.\u001b[0m\u001b[0mz2\u001b[0m\u001b[1;33m,\u001b[0m \u001b[1;32mTrue\u001b[0m\u001b[1;33m)\u001b[0m\u001b[1;33m\u001b[0m\u001b[0m\n\u001b[1;32m---> 69\u001b[1;33m         \u001b[0mdJdV\u001b[0m \u001b[1;33m=\u001b[0m \u001b[0mnp\u001b[0m\u001b[1;33m.\u001b[0m\u001b[0mdot\u001b[0m\u001b[1;33m(\u001b[0m\u001b[0mXi\u001b[0m\u001b[1;33m.\u001b[0m\u001b[0mT\u001b[0m\u001b[1;33m,\u001b[0m \u001b[0mdelta2\u001b[0m\u001b[1;33m)\u001b[0m \u001b[1;33m/\u001b[0m \u001b[0mXi\u001b[0m\u001b[1;33m.\u001b[0m\u001b[0mshape\u001b[0m\u001b[1;33m[\u001b[0m\u001b[1;36m0\u001b[0m\u001b[1;33m]\u001b[0m \u001b[1;33m+\u001b[0m \u001b[0mself\u001b[0m\u001b[1;33m.\u001b[0m\u001b[0mlamb\u001b[0m \u001b[1;33m*\u001b[0m \u001b[0mself\u001b[0m\u001b[1;33m.\u001b[0m\u001b[0mV\u001b[0m\u001b[1;33m\u001b[0m\u001b[0m\n\u001b[0m\u001b[0;32m     70\u001b[0m \u001b[1;33m\u001b[0m\u001b[0m\n\u001b[0;32m     71\u001b[0m         \u001b[1;32mreturn\u001b[0m \u001b[0mdJdV\u001b[0m\u001b[1;33m,\u001b[0m \u001b[0mdJdW\u001b[0m\u001b[1;33m\u001b[0m\u001b[0m\n",
      "\u001b[1;31mKeyboardInterrupt\u001b[0m: "
     ]
    }
   ],
   "source": [
    "get_ipython().magic(u'matplotlib inline')\n",
    "import matplotlib.pyplot as plt\n",
    "import pickle\n",
    "\n",
    "startTime = time.clock()\n",
    "NNM = NeuralNetMax(X, y)\n",
    "print(NNM.costFunction())\n",
    "NNM.train()\n",
    "print(NNM.costFunction())\n",
    "endTime = time.clock()\n",
    "print(\"Training finished in {} seconds\".format(endTime-startTime))\n",
    "NNM.dump('NNM.np')"
   ]
  },
  {
   "cell_type": "code",
   "execution_count": 95,
   "metadata": {
    "collapsed": false
   },
   "outputs": [
    {
     "data": {
      "image/png": "[encoded data removed]",
      "text/plain": [
       "<matplotlib.figure.Figure at 0x1f4810d06a0>"
      ]
     },
     "metadata": {},
     "output_type": "display_data"
    },
    {
     "name": "stdout",
     "output_type": "stream",
     "text": [
      "Counter({1: 1327, 8: 1101, 3: 1059, 5: 1007, 4: 982, 6: 958, 7: 940, 0: 935, 2: 925, 9: 766})\n"
     ]
    },
    {
     "data": {
      "text/plain": [
       "<matplotlib.figure.Figure at 0x1f480e241d0>"
      ]
     },
     "metadata": {},
     "output_type": "display_data"
    }
   ],
   "source": [
    "import csv\n",
    "from collections import Counter\n",
    "\n",
    "plt.plot(NNM.J)\n",
    "plt.show()\n",
    "plt.clf()\n",
    "\n",
    "predictions = NNM.predict(test_img)\n",
    "print(Counter(predictions))\n",
    "with open('digit-results-MAX.csv', 'w', newline='') as csvfile:\n",
    "    spamwriter = csv.writer(csvfile, delimiter=',')\n",
    "    spamwriter.writerow(['Id'] + ['Category'])\n",
    "    for i in range(len(predictions)):\n",
    "        spamwriter.writerow([i+1, predictions[i]])"
   ]
  }
 ],
 "metadata": {
  "kernelspec": {
   "display_name": "Python 3",
   "language": "python",
   "name": "python3"
  },
  "language_info": {
   "codemirror_mode": {
    "name": "ipython",
    "version": 3
   },
   "file_extension": ".py",
   "mimetype": "text/x-python",
   "name": "python",
   "nbconvert_exporter": "python",
   "pygments_lexer": "ipython3",
   "version": "3.5.1"
  }
 },
 "nbformat": 4,
 "nbformat_minor": 0
}
