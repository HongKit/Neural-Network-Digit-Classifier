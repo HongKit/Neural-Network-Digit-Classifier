{
 "cells": [
  {
   "cell_type": "code",
   "execution_count": null,
   "metadata": {
    "collapsed": false
   },
   "outputs": [],
   "source": [
    "import pickle\n",
    "import numpy as np\n",
    "from scipy.io import loadmat\n",
    "from sklearn.preprocessing import normalize\n",
    "\n",
    "#To find the number of SCC in a picture. Refactored from my own CS188 code\n",
    "def dfs(graph, start, visited=None):\n",
    "        if visited is None:\n",
    "            visited = set()\n",
    "        visited.add(start)\n",
    "        for next in graph[start] - visited:\n",
    "            dfs(graph, next, visited)\n",
    "        return visited\n",
    "        \n",
    "def run_dfs(test_img_raw, num_samples, threshold = 127, x_max = 28, y_max = 28):\n",
    "    dfs_feature = []\n",
    "    test_img_zero_one = 1*(test_img_raw>threshold)\n",
    "    for i in range(num_samples):\n",
    "        if num_samples > 50000 and i % 5000 == 0: \n",
    "            print(\"dfs at step {0}\".format(i))\n",
    "        graph = {}\n",
    "        for x in range(x_max):\n",
    "            for y in range(y_max):\n",
    "                graph[(x,y)] = set()\n",
    "                if test_img_zero_one[i][x][y] == 1: continue\n",
    "                if x+1 < x_max and test_img_zero_one[i, x+1, y] == 0:\n",
    "                    graph[(x,y)].add((x+1, y))\n",
    "                if x-1 >= 0 and test_img_zero_one[i, x-1, y] == 0:\n",
    "                    graph[(x,y)].add((x-1, y))\n",
    "                if y+1 < y_max and test_img_zero_one[i, x, y+1] == 0:\n",
    "                    graph[(x,y)].add((x, y+1))\n",
    "                if y-1 >= 0 and test_img_zero_one[i, x, y-1] == 0:\n",
    "                    graph[(x,y)].add((x, y-1))\n",
    "        DFS_visited = set()\n",
    "        SCCs = set()\n",
    "        \n",
    "        for x in range(x_max):\n",
    "            for y in range(y_max):\n",
    "                if (x,y) in DFS_visited: continue\n",
    "                if test_img_zero_one[i][x][y] == 1: continue\n",
    "                SSC_i = dfs(graph, (x,y))\n",
    "                SCCs.add(frozenset(SSC_i))\n",
    "                DFS_visited = DFS_visited.union(SSC_i)\n",
    "\n",
    "        num_of_SCCs = len(SCCs)\n",
    "        dfs_feature.append(num_of_SCCs)\n",
    "    return dfs_feature\n",
    "\n",
    "train_mat = loadmat(\"dataset/train.mat\")\n",
    "train_img_raw = train_mat[\"train_images\"].T\n",
    "train_lab = train_mat[\"train_labels\"].ravel()\n",
    "train_img = np.array([train_img_raw[i].T.flatten() for i in range(60000)])\n",
    "\n",
    "test_mat = loadmat(\"dataset/test.mat\")\n",
    "test_img_raw = test_mat[\"test_images\"]\n",
    "test_img = np.array([test_img_raw[i].reshape(28,28).flatten() for i in range(10000)])\n",
    "\n",
    "# Run DFS\n",
    "print(\"starting DFS for training data!\")\n",
    "dfs_feature = run_dfs(train_img_raw, 60000, 130)\n",
    "dfs_features = np.zeros((60000, 4))\n",
    "for i in range(60000):\n",
    "    if dfs_feature[i] > 3:\n",
    "        dfs_features[i][3] = 255\n",
    "    else:\n",
    "        dfs_features[i][dfs_feature[i]] = 255\n",
    "train_img = np.array([np.concatenate([train_img[i], dfs_features[i]]) for i in range(60000)])\n",
    "print(\"DFS done for training data!\\n\")\n",
    "\n",
    "print(\"starting DFS for testing data!\")\n",
    "dfs_feature1 = run_dfs(test_img_raw.reshape(10000, 28, 28), 10000, 130)\n",
    "dfs_features1 = np.zeros((10000, 4))\n",
    "for i in range(10000):\n",
    "    if dfs_feature1[i] > 3:\n",
    "        dfs_features1[i][3] = 255\n",
    "    else:\n",
    "        dfs_features1[i][dfs_feature1[i]] = 255\n",
    "test_img = np.array([np.concatenate([test_img[i], dfs_features1[i]]) for i in range(10000)])\n",
    "print(\"DFS done for testing data!\\n\")\n",
    "\n",
    "# standardize\n",
    "train_img = normalize(train_img.astype(np.float64))\n",
    "test_img = normalize(test_img.astype(np.float64))\n",
    "train_mean, train_std = train_img.mean(), train_img.std()\n",
    "train_img = (train_img - train_mean) / train_std\n",
    "test_img = (test_img - train_mean) / train_std\n",
    "\n",
    "# save standardized data and labels to disk\n",
    "train_img.dump('train_img.np')\n",
    "test_img.dump('test_img.np')\n",
    "train_lab.dump('train_lab.pkl')"
   ]
  },
  {
   "cell_type": "code",
   "execution_count": 67,
   "metadata": {
    "collapsed": false
   },
   "outputs": [],
   "source": [
    "get_ipython().magic(u'matplotlib inline')\n",
    "import matplotlib.pyplot as plt\n",
    "import numpy as np\n",
    "\n",
    "def print_img(H):\n",
    "    fig = plt.figure(figsize=(6, 3.2))\n",
    "\n",
    "    ax = fig.add_subplot(111)\n",
    "    ax.set_title('colorMap')\n",
    "    plt.imshow(H)\n",
    "    ax.set_aspect('equal')\n",
    "\n",
    "    cax = fig.add_axes([0.12, 0.1, 0.78, 0.8])\n",
    "    cax.get_xaxis().set_visible(False)\n",
    "    cax.get_yaxis().set_visible(False)\n",
    "    cax.patch.set_alpha(0)\n",
    "    cax.set_frame_on(False)\n",
    "    plt.colorbar(orientation='vertical')\n",
    "    plt.show()"
   ]
  },
  {
   "cell_type": "code",
   "execution_count": 1,
   "metadata": {
    "collapsed": false
   },
   "outputs": [],
   "source": [
    "import numpy as np\n",
    "from scipy.special import expit\n",
    "from random import randint\n",
    "    \n",
    "#benchmark.m, converted\n",
    "def benchmark(pred_labels, true_labels):\n",
    "    errors = pred_labels != true_labels\n",
    "    err_rate = sum(errors) / float(len(true_labels))\n",
    "    return err_rate\n",
    "\n",
    "# Activation Functions\n",
    "def sigmoid_function(signal, derivative=False):\n",
    "    signal = np.clip(signal, -500, 500)\n",
    "    signal = expit(signal)\n",
    "    if derivative:\n",
    "        return np.multiply(signal, 1 - signal)\n",
    "    else:\n",
    "        return signal\n",
    "\n",
    "def tanh_function(signal, derivative=False):\n",
    "    signal = np.tanh( signal )\n",
    "    if derivative:\n",
    "        return 1-np.power(signal,2)\n",
    "    else:\n",
    "        return signal\n",
    "\n",
    "# Cost Functions\n",
    "def sum_squared_error(yHat, y, derivative=False):\n",
    "    if derivative:\n",
    "        return np.multiply(-(y - yHat), sigmoid_function(yHat, True))\n",
    "    else:\n",
    "        return 0.5 * np.sum(np.power(yHat - y,2))\n",
    "    \n",
    "def cross_entropy_cost(yHat, y, derivative=False, epsilon=10**-3):\n",
    "    if derivative:\n",
    "        return -(y - yHat)\n",
    "    else:\n",
    "        yHat = np.clip(yHat, epsilon, 1 - epsilon)\n",
    "        return -np.sum(y * np.log(yHat) + (1 - y) * np.log(1 - yHat))\n",
    "    \n",
    "class NeuralNet(object):\n",
    "    def __init__(self, X, y, costFN = sum_squared_error, outputLayerSize = 10, \\\n",
    "                 hiddenLayerSize = 200, learning_rate = 0.01, lamb = 0.0001):\n",
    "        numberOfSamples = len(y)\n",
    "        self.X = X[numberOfSamples//6:]\n",
    "        self.y = y[numberOfSamples//6:]\n",
    "        self.X_valid = X[:numberOfSamples//6]\n",
    "        self.y_valid = y[:numberOfSamples//6]\n",
    "        \n",
    "        self.costFN = costFN\n",
    "        self.inputLayerSize = len(X[0])\n",
    "        self.outputLayerSize = outputLayerSize\n",
    "        self.hiddenLayerSize = hiddenLayerSize\n",
    "        self.learning_rate = learning_rate\n",
    "        self.lamb = lamb\n",
    "        \n",
    "        self.V = np.random.randn(self.inputLayerSize, self.hiddenLayerSize)\n",
    "        self.W = np.random.randn(self.hiddenLayerSize, self.outputLayerSize)\n",
    "    \n",
    "    def forward(self, X):\n",
    "        self.z2 = np.dot(X, self.V)\n",
    "        self.a2 = tanh_function(self.z2)\n",
    "        self.z3 = np.dot(self.a2, self.W)\n",
    "        yHat = sigmoid_function(self.z3)\n",
    "        return yHat\n",
    "    \n",
    "    def costFunction(self):\n",
    "        yHat = self.forward(self.X)\n",
    "        return self.costFN(yHat, self.y, False)\n",
    "    \n",
    "    def costFunctionPrime(self, Xi, yi):\n",
    "        yHati = self.forward(Xi)\n",
    "        \n",
    "        delta3 = self.costFN(yHati, yi, True)\n",
    "        dJdW = np.dot(self.a2.T, delta3)# / Xi.shape[0] + self.lamb * self.W\n",
    "        \n",
    "        delta2 = np.dot(delta3, self.W.T) * tanh_function(self.z2, True)\n",
    "        dJdV = np.dot(Xi.T, delta2)# / Xi.shape[0] + self.lamb * self.V\n",
    "        \n",
    "        return dJdV, dJdW\n",
    "    \n",
    "    def validation_error(self):\n",
    "        yHat = self.forward(self.X_valid)\n",
    "        yPredi = np.argmax(yHat, axis = 1)\n",
    "        yGiven = np.argmax(self.y_valid, axis = 1)\n",
    "        return benchmark(yPredi, yGiven)\n",
    "    \n",
    "    def training_error(self):\n",
    "        yHat = self.forward(self.X)\n",
    "        yPredi = np.argmax(yHat, axis = 1)\n",
    "        yGiven = np.argmax(self.y, axis = 1)\n",
    "        return benchmark(yPredi, yGiven)\n",
    "    \n",
    "    def stochastic_GD(self, Xi, yi, current_learning_rate):\n",
    "        dJdV, dJdW = self.costFunctionPrime(Xi, yi)\n",
    "        self.V = self.V - current_learning_rate*dJdV\n",
    "        self.W = self.W - current_learning_rate*dJdW\n",
    "        \n",
    "    def train(self):\n",
    "        self.valid_err = []\n",
    "        self.J = []\n",
    "        for i in range(1,3000):\n",
    "            if i % 100 == 0:\n",
    "                self.valid_err.append(self.validation_error())\n",
    "                self.J.append(self.costFunction())\n",
    "            index = randint(0, len(self.y)-1)\n",
    "            self.stochastic_GD(np.array([self.X[index]]),\\\n",
    "                               np.array([self.y[index]]), self.learning_rate)\n",
    "        self.yHat = self.forward(self.X)\n",
    "        return np.argmax(self.yHat, axis = 1)\n",
    "    \n",
    "    def predict(self, X):\n",
    "        return np.argmax(self.forward(X), axis = 1)"
   ]
  },
  {
   "cell_type": "code",
   "execution_count": 2,
   "metadata": {
    "collapsed": false
   },
   "outputs": [],
   "source": [
    "import pickle\n",
    "import numpy as np\n",
    "from scipy.sparse import coo_matrix\n",
    "from sklearn.utils import shuffle\n",
    "\n",
    "with open('test_img.np', 'rb') as f:\n",
    "    test_img = pickle.load(f)\n",
    "with open('train_img.np', 'rb') as f:\n",
    "    train_img = pickle.load(f)\n",
    "with open('train_lab.pkl', 'rb') as f:\n",
    "    train_lab = pickle.load(f)\n",
    "    \n",
    "X_sparse = coo_matrix(train_img)\n",
    "train_img, X_sparse, train_lab = shuffle(train_img, X_sparse, train_lab, random_state=0)\n",
    "\n",
    "y = np.zeros((len(train_lab), 10))\n",
    "for i in range(len(train_lab)):\n",
    "    y[i][train_lab[i]] = 1\n",
    "X = train_img"
   ]
  },
  {
   "cell_type": "code",
   "execution_count": 17,
   "metadata": {
    "collapsed": false
   },
   "outputs": [
    {
     "name": "stdout",
     "output_type": "stream",
     "text": [
      "129663.238588\n",
      "26965.332582\n"
     ]
    },
    {
     "data": {
      "image/png": "[encoded data removed]",
      "text/plain": [
       "<matplotlib.figure.Figure at 0x20380e056d8>"
      ]
     },
     "metadata": {},
     "output_type": "display_data"
    },
    {
     "data": {
      "image/png": "[encoded data removed]",
      "text/plain": [
       "<matplotlib.figure.Figure at 0x20380f6bf98>"
      ]
     },
     "metadata": {},
     "output_type": "display_data"
    },
    {
     "name": "stdout",
     "output_type": "stream",
     "text": [
      "Training finished in 44.50913471091599 seconds\n",
      "Training accuracy: 0.47553999999999996\n",
      "Validation accuracy: 0.477\n"
     ]
    },
    {
     "data": {
      "text/plain": [
       "<matplotlib.figure.Figure at 0x20380f35f98>"
      ]
     },
     "metadata": {},
     "output_type": "display_data"
    }
   ],
   "source": [
    "get_ipython().magic(u'matplotlib inline')\n",
    "import matplotlib.pyplot as plt\n",
    "import time\n",
    "\n",
    "startTime = time.clock()\n",
    "NN = NeuralNet(X, y)\n",
    "print(NN.costFunction())\n",
    "NN.train()\n",
    "print(NN.costFunction())\n",
    "plt.plot(1-np.array(NN.valid_err))\n",
    "plt.show()\n",
    "plt.clf()\n",
    "plt.plot(NN.J)\n",
    "plt.show()\n",
    "plt.clf()\n",
    "endTime = time.clock()\n",
    "print(\"Training finished in {} seconds\".format(endTime-startTime))\n",
    "\n",
    "print(\"Training accuracy: {}\". format(1-NN.training_error()))\n",
    "print(\"Validation accuracy: {}\". format(1-NN.validation_error()))"
   ]
  },
  {
   "cell_type": "code",
   "execution_count": 4,
   "metadata": {
    "collapsed": false
   },
   "outputs": [
    {
     "name": "stdout",
     "output_type": "stream",
     "text": [
      "1337107.40171\n",
      "158066.162865\n"
     ]
    },
    {
     "data": {
      "image/png": "[encoded data removed]",
      "text/plain": [
       "<matplotlib.figure.Figure at 0x20380c89240>"
      ]
     },
     "metadata": {},
     "output_type": "display_data"
    },
    {
     "data": {
      "image/png": "[encoded data removed]",
      "text/plain": [
       "<matplotlib.figure.Figure at 0x20380de5b00>"
      ]
     },
     "metadata": {},
     "output_type": "display_data"
    },
    {
     "name": "stdout",
     "output_type": "stream",
     "text": [
      "Training finished in 41.16302646726038 seconds\n",
      "Training accuracy: 0.68788\n",
      "Validation accuracy: 0.6880999999999999\n"
     ]
    },
    {
     "data": {
      "text/plain": [
       "<matplotlib.figure.Figure at 0x20380e0c978>"
      ]
     },
     "metadata": {},
     "output_type": "display_data"
    }
   ],
   "source": [
    "get_ipython().magic(u'matplotlib inline')\n",
    "import matplotlib.pyplot as plt\n",
    "import time\n",
    "\n",
    "startTime = time.clock()\n",
    "NN2 = NeuralNet(X, y, costFN = cross_entropy_cost, learning_rate = 0.01)\n",
    "print(NN2.costFunction())\n",
    "NN2.train()\n",
    "print(NN2.costFunction())\n",
    "plt.plot(1-np.array(NN2.valid_err))\n",
    "plt.show()\n",
    "plt.clf()\n",
    "plt.plot(NN2.J)\n",
    "plt.show()\n",
    "plt.clf()\n",
    "endTime = time.clock()\n",
    "print(\"Training finished in {} seconds\".format(endTime-startTime))\n",
    "\n",
    "print(\"Training accuracy: {}\". format(1-NN2.training_error()))\n",
    "print(\"Validation accuracy: {}\". format(1-NN2.validation_error()))"
   ]
  },
  {
   "cell_type": "code",
   "execution_count": 70,
   "metadata": {
    "collapsed": false
   },
   "outputs": [
    {
     "name": "stdout",
     "output_type": "stream",
     "text": [
      "Counter({1: 1154, 3: 1062, 4: 1047, 6: 1047, 8: 1038, 7: 1016, 9: 1002, 0: 997, 2: 887, 5: 750})\n"
     ]
    }
   ],
   "source": [
    "import csv\n",
    "from collections import Counter\n",
    "predictions = NN.predict(test_img)\n",
    "print(Counter(predictions))\n",
    "with open('digit-results-MSE.csv', 'w', newline='') as csvfile:\n",
    "    spamwriter = csv.writer(csvfile, delimiter=',')\n",
    "    spamwriter.writerow(['Id'] + ['Category'])\n",
    "    for i in range(len(predictions)):\n",
    "        spamwriter.writerow([i+1, predictions[i]])"
   ]
  },
  {
   "cell_type": "code",
   "execution_count": 71,
   "metadata": {
    "collapsed": false
   },
   "outputs": [
    {
     "name": "stdout",
     "output_type": "stream",
     "text": [
      "Counter({9: 1163, 3: 1159, 6: 1076, 1: 1074, 0: 976, 2: 972, 7: 972, 5: 952, 4: 856, 8: 800})\n"
     ]
    }
   ],
   "source": [
    "import csv\n",
    "from collections import Counter\n",
    "predictions = NN2.predict(test_img)\n",
    "print(Counter(predictions))\n",
    "with open('digit-results-CEC.csv', 'w', newline='') as csvfile:\n",
    "    spamwriter = csv.writer(csvfile, delimiter=',')\n",
    "    spamwriter.writerow(['Id'] + ['Category'])\n",
    "    for i in range(len(predictions)):\n",
    "        spamwriter.writerow([i+1, predictions[i]])"
   ]
  },
  {
   "cell_type": "code",
   "execution_count": 49,
   "metadata": {
    "collapsed": false
   },
   "outputs": [],
   "source": [
    "import numpy as np\n",
    "from scipy.special import expit\n",
    "from random import randint\n",
    "\n",
    "#benchmark.m, converted\n",
    "def benchmark(pred_labels, true_labels):\n",
    "    errors = pred_labels != true_labels\n",
    "    err_rate = sum(errors) / float(len(true_labels))\n",
    "    return err_rate\n",
    "\n",
    "# Activation Functions\n",
    "def sigmoid_function(signal, derivative=False):\n",
    "    signal = np.clip(signal, -500, 500)\n",
    "    signal = expit(signal)\n",
    "    if derivative:\n",
    "        return np.multiply(signal, 1 - signal)\n",
    "    else:\n",
    "        return signal\n",
    "\n",
    "def tanh_function(signal, derivative=False):\n",
    "    signal = np.tanh( signal )\n",
    "    if derivative:\n",
    "        return 1-np.power(signal,2)\n",
    "    else:\n",
    "        return signal\n",
    "\n",
    "# Cost Functions\n",
    "def sum_squared_error(yHat, y, derivative=False):\n",
    "    if derivative:\n",
    "        return np.multiply(-(y - yHat), sigmoid_function(yHat, True))\n",
    "    else:\n",
    "        return 0.5 * np.sum(np.power(yHat - y,2))\n",
    "    \n",
    "def cross_entropy_cost(yHat, y, derivative=False, epsilon=10**-3):\n",
    "    if derivative:\n",
    "        return -(y - yHat)\n",
    "    else:\n",
    "        yHat = np.clip(yHat, epsilon, 1 - epsilon)\n",
    "        return -np.sum(y * np.log(yHat) + (1 - y) * np.log(1 - yHat))\n",
    "\n",
    "class NeuralNetMax(object):\n",
    "    def __init__(self, X, y, costFN = sum_squared_error, outputLayerSize = 10, \\\n",
    "                 hiddenLayerSize = 200, learning_rate = 0.01, lamb = 0.00005):\n",
    "        self.X = X\n",
    "        self.y = y\n",
    "        \n",
    "        self.costFN = costFN\n",
    "        self.inputLayerSize = len(X[0])\n",
    "        self.outputLayerSize = outputLayerSize\n",
    "        self.hiddenLayerSize = hiddenLayerSize\n",
    "        self.learning_rate = learning_rate\n",
    "        self.lamb = lamb\n",
    "        \n",
    "        self.V = np.random.randn(self.inputLayerSize, self.hiddenLayerSize)\n",
    "        self.W = np.random.randn(self.hiddenLayerSize, self.outputLayerSize)\n",
    "        \n",
    "        self.J = []\n",
    "        self.train_err = []\n",
    "    \n",
    "    def forward(self, X):\n",
    "        self.z2 = np.dot(X, self.V)\n",
    "        self.a2 = tanh_function(self.z2)\n",
    "        self.z3 = np.dot(self.a2, self.W)\n",
    "        yHat = sigmoid_function(self.z3)\n",
    "        return yHat\n",
    "    \n",
    "    def costFunction(self):\n",
    "        yHat = self.forward(self.X)\n",
    "        return self.costFN(yHat, self.y, False)\n",
    "    \n",
    "    def costFunctionPrime(self, Xi, yi):\n",
    "        yHati = self.forward(Xi)\n",
    "        \n",
    "        delta3 = self.costFN(yHati, yi, True)\n",
    "        dJdW = np.dot(self.a2.T, delta3) / Xi.shape[0] + self.lamb * self.W\n",
    "        \n",
    "        delta2 = np.dot(delta3, self.W.T) * tanh_function(self.z2, True)\n",
    "        dJdV = np.dot(Xi.T, delta2) / Xi.shape[0] + self.lamb * self.V\n",
    "        \n",
    "        return dJdV, dJdW\n",
    "    \n",
    "    def training_error(self):\n",
    "        yHat = self.forward(self.X)\n",
    "        yPredi = np.argmax(yHat, axis = 1)\n",
    "        yGiven = np.argmax(self.y, axis = 1)\n",
    "        return benchmark(yPredi, yGiven)\n",
    "    \n",
    "    def stochastic_GD(self, Xi, yi, current_learning_rate):\n",
    "        dJdV, dJdW = self.costFunctionPrime(Xi, yi)\n",
    "        self.V = self.V - current_learning_rate*dJdV\n",
    "        self.W = self.W - current_learning_rate*dJdW\n",
    "        \n",
    "    def train(self):\n",
    "        for i in range(1,50000):\n",
    "            if i % 1000 == 0:\n",
    "                self.J.append(self.costFunction())\n",
    "                self.train_err.append(self.training_error())\n",
    "            index = randint(0, len(self.y)-1)\n",
    "            self.stochastic_GD(np.array([self.X[index]]),\\\n",
    "                               np.array([self.y[index]]), self.learning_rate)\n",
    "        self.yHat = self.forward(self.X)\n",
    "        return np.argmax(self.yHat, axis = 1)\n",
    "    \n",
    "    def predict(self, X):\n",
    "        return np.argmax(self.forward(X), axis = 1)"
   ]
  },
  {
   "cell_type": "code",
   "execution_count": 25,
   "metadata": {
    "collapsed": false
   },
   "outputs": [
    {
     "name": "stdout",
     "output_type": "stream",
     "text": [
      "33918.5441374\n",
      "34756.1796084\n",
      "Training finished in 477.9003031492375 seconds\n"
     ]
    }
   ],
   "source": [
    "NNM4 = NeuralNetMax(X, y, costFN = cross_entropy_cost)\n",
    "NNM4.V = NNM3.V\n",
    "NNM4.W = NNM3.W\n",
    "NNM4.J = NNM3.J\n",
    "NNM4.train_err = NNM3.train_err\n",
    "\n",
    "startTime = time.clock()\n",
    "print(NNM4.costFunction())\n",
    "NNM4.train()\n",
    "print(NNM4.costFunction())\n",
    "endTime = time.clock()\n",
    "print(\"Training finished in {} seconds\".format(endTime-startTime))\n",
    "with open('NNM4.pickle', 'wb') as f:\n",
    "    pickle.dump(NNM4, f, pickle.HIGHEST_PROTOCOL)"
   ]
  },
  {
   "cell_type": "code",
   "execution_count": 50,
   "metadata": {
    "collapsed": false
   },
   "outputs": [
    {
     "name": "stdout",
     "output_type": "stream",
     "text": [
      "21467.5850443\n",
      "0\n",
      "1\n",
      "2\n",
      "20040.7644235\n",
      "Training finished in 2056.5679577331794 seconds\n"
     ]
    },
    {
     "ename": "PicklingError",
     "evalue": "Can't pickle <class '__main__.NeuralNetMax'>: it's not the same object as __main__.NeuralNetMax",
     "output_type": "error",
     "traceback": [
      "\u001b[1;31m---------------------------------------------------------------------------\u001b[0m",
      "\u001b[1;31mPicklingError\u001b[0m                             Traceback (most recent call last)",
      "\u001b[1;32m<ipython-input-50-9ac24e86e27e>\u001b[0m in \u001b[0;36m<module>\u001b[1;34m()\u001b[0m\n\u001b[0;32m      9\u001b[0m \u001b[0mprint\u001b[0m\u001b[1;33m(\u001b[0m\u001b[1;34m\"Training finished in {} seconds\"\u001b[0m\u001b[1;33m.\u001b[0m\u001b[0mformat\u001b[0m\u001b[1;33m(\u001b[0m\u001b[0mendTime\u001b[0m\u001b[1;33m-\u001b[0m\u001b[0mstartTime\u001b[0m\u001b[1;33m)\u001b[0m\u001b[1;33m)\u001b[0m\u001b[1;33m\u001b[0m\u001b[0m\n\u001b[0;32m     10\u001b[0m \u001b[1;32mwith\u001b[0m \u001b[0mopen\u001b[0m\u001b[1;33m(\u001b[0m\u001b[1;34m'NNM4.pickle'\u001b[0m\u001b[1;33m,\u001b[0m \u001b[1;34m'wb'\u001b[0m\u001b[1;33m)\u001b[0m \u001b[1;32mas\u001b[0m \u001b[0mf\u001b[0m\u001b[1;33m:\u001b[0m\u001b[1;33m\u001b[0m\u001b[0m\n\u001b[1;32m---> 11\u001b[1;33m     \u001b[0mpickle\u001b[0m\u001b[1;33m.\u001b[0m\u001b[0mdump\u001b[0m\u001b[1;33m(\u001b[0m\u001b[0mNNM4\u001b[0m\u001b[1;33m,\u001b[0m \u001b[0mf\u001b[0m\u001b[1;33m,\u001b[0m \u001b[0mpickle\u001b[0m\u001b[1;33m.\u001b[0m\u001b[0mHIGHEST_PROTOCOL\u001b[0m\u001b[1;33m)\u001b[0m\u001b[1;33m\u001b[0m\u001b[0m\n\u001b[0m",
      "\u001b[1;31mPicklingError\u001b[0m: Can't pickle <class '__main__.NeuralNetMax'>: it's not the same object as __main__.NeuralNetMax"
     ]
    }
   ],
   "source": [
    "startTime = time.clock()\n",
    "print(NNM4.costFunction())\n",
    "for i in range(3):\n",
    "    NNM4.train()\n",
    "    print(i)\n",
    "print(NNM4.costFunction())\n",
    "endTime = time.clock()\n",
    "print(\"Training finished in {} seconds\".format(endTime-startTime))\n",
    "with open('NNM4.pickle', 'wb') as f:\n",
    "    pickle.dump(NNM4, f, pickle.HIGHEST_PROTOCOL)"
   ]
  },
  {
   "cell_type": "code",
   "execution_count": 54,
   "metadata": {
    "collapsed": false
   },
   "outputs": [
    {
     "name": "stdout",
     "output_type": "stream",
     "text": [
      "Training finished in 117:11.55534115784667\n"
     ]
    }
   ],
   "source": [
    "cumulative_time = 477.9003031492375+469.68645607702547+1747+\\\n",
    "                1688.0101853053093+592.390438893095+2056.5679577331794\n",
    "print(\"Training finished in {}:{}\".format(int(cumulative_time//60), cumulative_time%60))"
   ]
  },
  {
   "cell_type": "code",
   "execution_count": 55,
   "metadata": {
    "collapsed": false
   },
   "outputs": [
    {
     "data": {
      "image/png": "[encoded data removed]",
      "text/plain": [
       "<matplotlib.figure.Figure at 0x20380ecb080>"
      ]
     },
     "metadata": {},
     "output_type": "display_data"
    },
    {
     "data": {
      "image/png": "[encoded data removed]",
      "text/plain": [
       "<matplotlib.figure.Figure at 0x20380f3f550>"
      ]
     },
     "metadata": {},
     "output_type": "display_data"
    },
    {
     "name": "stdout",
     "output_type": "stream",
     "text": [
      "0.9572\n",
      "Counter({1: 1150, 7: 1079, 4: 1040, 2: 1013, 5: 1001, 0: 1000, 6: 981, 8: 927, 9: 913, 3: 896})\n"
     ]
    },
    {
     "data": {
      "text/plain": [
       "<matplotlib.figure.Figure at 0x20380f15ba8>"
      ]
     },
     "metadata": {},
     "output_type": "display_data"
    }
   ],
   "source": [
    "import csv\n",
    "from collections import Counter\n",
    "\n",
    "plt.plot(1-np.array(NNM4.train_err))\n",
    "plt.show()\n",
    "plt.clf()\n",
    "\n",
    "plt.plot(NNM4.J)\n",
    "plt.show()\n",
    "plt.clf()\n",
    "\n",
    "print(1-NNM4.training_error())\n",
    "\n",
    "predictions = NNM4.predict(test_img)\n",
    "print(Counter(predictions))\n",
    "with open('digit-results-MAX4.csv', 'w', newline='') as csvfile:\n",
    "    spamwriter = csv.writer(csvfile, delimiter=',')\n",
    "    spamwriter.writerow(['Id'] + ['Category'])\n",
    "    for i in range(len(predictions)):\n",
    "        spamwriter.writerow([i+1, predictions[i]])"
   ]
  },
  {
   "cell_type": "code",
   "execution_count": 56,
   "metadata": {
    "collapsed": false
   },
   "outputs": [
    {
     "data": {
      "image/png": "[encoded data removed]",
      "text/plain": [
       "<matplotlib.figure.Figure at 0x20380d73630>"
      ]
     },
     "metadata": {},
     "output_type": "display_data"
    },
    {
     "name": "stdout",
     "output_type": "stream",
     "text": [
      "686\n"
     ]
    },
    {
     "data": {
      "text/plain": [
       "<matplotlib.figure.Figure at 0x203811e10f0>"
      ]
     },
     "metadata": {},
     "output_type": "display_data"
    }
   ],
   "source": [
    "plt.plot(1-np.array(NNM4.train_err[450:]))\n",
    "plt.show()\n",
    "plt.clf()\n",
    "print(len(NNM4.train_err))"
   ]
  }
 ],
 "metadata": {
  "kernelspec": {
   "display_name": "Python 3",
   "language": "python",
   "name": "python3"
  },
  "language_info": {
   "codemirror_mode": {
    "name": "ipython",
    "version": 3
   },
   "file_extension": ".py",
   "mimetype": "text/x-python",
   "name": "python",
   "nbconvert_exporter": "python",
   "pygments_lexer": "ipython3",
   "version": "3.5.1"
  }
 },
 "nbformat": 4,
 "nbformat_minor": 0
}
